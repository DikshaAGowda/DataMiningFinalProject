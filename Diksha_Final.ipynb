{
 "cells": [
  {
   "cell_type": "code",
   "execution_count": 1,
   "metadata": {
    "id": "VsB4GsRqaXk1"
   },
   "outputs": [],
   "source": [
    "import numpy as np\n",
    "import pandas as pd\n",
    "from sklearn.model_selection import train_test_split\n",
    "from sklearn.preprocessing import RobustScaler\n",
    "from sklearn.model_selection import StratifiedKFold, GridSearchCV\n",
    "from sklearn.metrics import classification_report, confusion_matrix, plot_confusion_matrix\n",
    "import warnings\n",
    "warnings.filterwarnings('ignore')\n",
    "from collections import defaultdict\n",
    "import matplotlib.pyplot as plt"
   ]
  },
  {
   "cell_type": "code",
   "execution_count": 2,
   "metadata": {
    "id": "pQfC8TPAmaw0"
   },
   "outputs": [],
   "source": [
    "from sklearn.ensemble import RandomForestClassifier\n",
    "from sklearn.svm import SVC\n",
    "from sklearn.naive_bayes import GaussianNB\n",
    "from sklearn.neighbors import KNeighborsClassifier"
   ]
  },
  {
   "cell_type": "markdown",
   "metadata": {
    "id": "RCvOi4JpKBB2"
   },
   "source": [
    "# Pre-Processing"
   ]
  },
  {
   "cell_type": "code",
   "execution_count": 6,
   "metadata": {
    "colab": {
     "base_uri": "https://localhost:8080/",
     "height": 204
    },
    "id": "8lEJTk_RcRg7",
    "outputId": "e1da32a3-9dc2-45a8-a451-52a6ec1372c3"
   },
   "outputs": [
    {
     "data": {
      "text/html": [
       "<div>\n",
       "<style scoped>\n",
       "    .dataframe tbody tr th:only-of-type {\n",
       "        vertical-align: middle;\n",
       "    }\n",
       "\n",
       "    .dataframe tbody tr th {\n",
       "        vertical-align: top;\n",
       "    }\n",
       "\n",
       "    .dataframe thead th {\n",
       "        text-align: right;\n",
       "    }\n",
       "</style>\n",
       "<table border=\"1\" class=\"dataframe\">\n",
       "  <thead>\n",
       "    <tr style=\"text-align: right;\">\n",
       "      <th></th>\n",
       "      <th>age</th>\n",
       "      <th>sex</th>\n",
       "      <th>cp</th>\n",
       "      <th>trtbps</th>\n",
       "      <th>chol</th>\n",
       "      <th>fbs</th>\n",
       "      <th>restecg</th>\n",
       "      <th>thalachh</th>\n",
       "      <th>exng</th>\n",
       "      <th>oldpeak</th>\n",
       "      <th>slp</th>\n",
       "      <th>caa</th>\n",
       "      <th>thall</th>\n",
       "      <th>output</th>\n",
       "    </tr>\n",
       "  </thead>\n",
       "  <tbody>\n",
       "    <tr>\n",
       "      <th>0</th>\n",
       "      <td>63</td>\n",
       "      <td>1</td>\n",
       "      <td>3</td>\n",
       "      <td>145</td>\n",
       "      <td>233</td>\n",
       "      <td>1</td>\n",
       "      <td>0</td>\n",
       "      <td>150</td>\n",
       "      <td>0</td>\n",
       "      <td>2.3</td>\n",
       "      <td>0</td>\n",
       "      <td>0</td>\n",
       "      <td>1</td>\n",
       "      <td>1</td>\n",
       "    </tr>\n",
       "    <tr>\n",
       "      <th>1</th>\n",
       "      <td>37</td>\n",
       "      <td>1</td>\n",
       "      <td>2</td>\n",
       "      <td>130</td>\n",
       "      <td>250</td>\n",
       "      <td>0</td>\n",
       "      <td>1</td>\n",
       "      <td>187</td>\n",
       "      <td>0</td>\n",
       "      <td>3.5</td>\n",
       "      <td>0</td>\n",
       "      <td>0</td>\n",
       "      <td>2</td>\n",
       "      <td>1</td>\n",
       "    </tr>\n",
       "    <tr>\n",
       "      <th>2</th>\n",
       "      <td>41</td>\n",
       "      <td>0</td>\n",
       "      <td>1</td>\n",
       "      <td>130</td>\n",
       "      <td>204</td>\n",
       "      <td>0</td>\n",
       "      <td>0</td>\n",
       "      <td>172</td>\n",
       "      <td>0</td>\n",
       "      <td>1.4</td>\n",
       "      <td>2</td>\n",
       "      <td>0</td>\n",
       "      <td>2</td>\n",
       "      <td>1</td>\n",
       "    </tr>\n",
       "    <tr>\n",
       "      <th>3</th>\n",
       "      <td>56</td>\n",
       "      <td>1</td>\n",
       "      <td>1</td>\n",
       "      <td>120</td>\n",
       "      <td>236</td>\n",
       "      <td>0</td>\n",
       "      <td>1</td>\n",
       "      <td>178</td>\n",
       "      <td>0</td>\n",
       "      <td>0.8</td>\n",
       "      <td>2</td>\n",
       "      <td>0</td>\n",
       "      <td>2</td>\n",
       "      <td>1</td>\n",
       "    </tr>\n",
       "    <tr>\n",
       "      <th>4</th>\n",
       "      <td>57</td>\n",
       "      <td>0</td>\n",
       "      <td>0</td>\n",
       "      <td>120</td>\n",
       "      <td>354</td>\n",
       "      <td>0</td>\n",
       "      <td>1</td>\n",
       "      <td>163</td>\n",
       "      <td>1</td>\n",
       "      <td>0.6</td>\n",
       "      <td>2</td>\n",
       "      <td>0</td>\n",
       "      <td>2</td>\n",
       "      <td>1</td>\n",
       "    </tr>\n",
       "  </tbody>\n",
       "</table>\n",
       "</div>"
      ],
      "text/plain": [
       "   age  sex  cp  trtbps  chol  fbs  restecg  thalachh  exng  oldpeak  slp  \\\n",
       "0   63    1   3     145   233    1        0       150     0      2.3    0   \n",
       "1   37    1   2     130   250    0        1       187     0      3.5    0   \n",
       "2   41    0   1     130   204    0        0       172     0      1.4    2   \n",
       "3   56    1   1     120   236    0        1       178     0      0.8    2   \n",
       "4   57    0   0     120   354    0        1       163     1      0.6    2   \n",
       "\n",
       "   caa  thall  output  \n",
       "0    0      1       1  \n",
       "1    0      2       1  \n",
       "2    0      2       1  \n",
       "3    0      2       1  \n",
       "4    0      2       1  "
      ]
     },
     "execution_count": 6,
     "metadata": {},
     "output_type": "execute_result"
    }
   ],
   "source": [
    "df = pd.read_csv('heart.csv')\n",
    "df.head()"
   ]
  },
  {
   "cell_type": "code",
   "execution_count": 7,
   "metadata": {
    "id": "Muurwcn8cy9a"
   },
   "outputs": [],
   "source": [
    "from sklearn.model_selection import train_test_split\n",
    "\n",
    "cat_cols = ['sex','exng','caa','cp','fbs','restecg','slp','thall']\n",
    "con_cols = [\"age\",\"trtbps\",\"chol\",\"thalachh\",\"oldpeak\"]\n",
    "\n",
    "df_processed = pd.get_dummies(df, columns = cat_cols, drop_first = True)\n",
    "X = df_processed.drop(['output'],axis=1)\n",
    "y = df_processed[['output']]"
   ]
  },
  {
   "cell_type": "code",
   "execution_count": 8,
   "metadata": {
    "colab": {
     "base_uri": "https://localhost:8080/",
     "height": 439
    },
    "id": "vGCWUZhjedB6",
    "outputId": "23f0ea58-52ce-4a6f-842d-9f73be2a4075"
   },
   "outputs": [
    {
     "data": {
      "text/html": [
       "<div>\n",
       "<style scoped>\n",
       "    .dataframe tbody tr th:only-of-type {\n",
       "        vertical-align: middle;\n",
       "    }\n",
       "\n",
       "    .dataframe tbody tr th {\n",
       "        vertical-align: top;\n",
       "    }\n",
       "\n",
       "    .dataframe thead th {\n",
       "        text-align: right;\n",
       "    }\n",
       "</style>\n",
       "<table border=\"1\" class=\"dataframe\">\n",
       "  <thead>\n",
       "    <tr style=\"text-align: right;\">\n",
       "      <th></th>\n",
       "      <th>age</th>\n",
       "      <th>trtbps</th>\n",
       "      <th>chol</th>\n",
       "      <th>thalachh</th>\n",
       "      <th>oldpeak</th>\n",
       "      <th>sex_1</th>\n",
       "      <th>exng_1</th>\n",
       "      <th>caa_1</th>\n",
       "      <th>caa_2</th>\n",
       "      <th>caa_3</th>\n",
       "      <th>...</th>\n",
       "      <th>cp_2</th>\n",
       "      <th>cp_3</th>\n",
       "      <th>fbs_1</th>\n",
       "      <th>restecg_1</th>\n",
       "      <th>restecg_2</th>\n",
       "      <th>slp_1</th>\n",
       "      <th>slp_2</th>\n",
       "      <th>thall_1</th>\n",
       "      <th>thall_2</th>\n",
       "      <th>thall_3</th>\n",
       "    </tr>\n",
       "  </thead>\n",
       "  <tbody>\n",
       "    <tr>\n",
       "      <th>0</th>\n",
       "      <td>0.592593</td>\n",
       "      <td>0.75</td>\n",
       "      <td>-0.110236</td>\n",
       "      <td>-0.092308</td>\n",
       "      <td>0.9375</td>\n",
       "      <td>1</td>\n",
       "      <td>0</td>\n",
       "      <td>0</td>\n",
       "      <td>0</td>\n",
       "      <td>0</td>\n",
       "      <td>...</td>\n",
       "      <td>0</td>\n",
       "      <td>1</td>\n",
       "      <td>1</td>\n",
       "      <td>0</td>\n",
       "      <td>0</td>\n",
       "      <td>0</td>\n",
       "      <td>0</td>\n",
       "      <td>1</td>\n",
       "      <td>0</td>\n",
       "      <td>0</td>\n",
       "    </tr>\n",
       "    <tr>\n",
       "      <th>1</th>\n",
       "      <td>-1.333333</td>\n",
       "      <td>0.00</td>\n",
       "      <td>0.157480</td>\n",
       "      <td>1.046154</td>\n",
       "      <td>1.6875</td>\n",
       "      <td>1</td>\n",
       "      <td>0</td>\n",
       "      <td>0</td>\n",
       "      <td>0</td>\n",
       "      <td>0</td>\n",
       "      <td>...</td>\n",
       "      <td>1</td>\n",
       "      <td>0</td>\n",
       "      <td>0</td>\n",
       "      <td>1</td>\n",
       "      <td>0</td>\n",
       "      <td>0</td>\n",
       "      <td>0</td>\n",
       "      <td>0</td>\n",
       "      <td>1</td>\n",
       "      <td>0</td>\n",
       "    </tr>\n",
       "    <tr>\n",
       "      <th>2</th>\n",
       "      <td>-1.037037</td>\n",
       "      <td>0.00</td>\n",
       "      <td>-0.566929</td>\n",
       "      <td>0.584615</td>\n",
       "      <td>0.3750</td>\n",
       "      <td>0</td>\n",
       "      <td>0</td>\n",
       "      <td>0</td>\n",
       "      <td>0</td>\n",
       "      <td>0</td>\n",
       "      <td>...</td>\n",
       "      <td>0</td>\n",
       "      <td>0</td>\n",
       "      <td>0</td>\n",
       "      <td>0</td>\n",
       "      <td>0</td>\n",
       "      <td>0</td>\n",
       "      <td>1</td>\n",
       "      <td>0</td>\n",
       "      <td>1</td>\n",
       "      <td>0</td>\n",
       "    </tr>\n",
       "    <tr>\n",
       "      <th>3</th>\n",
       "      <td>0.074074</td>\n",
       "      <td>-0.50</td>\n",
       "      <td>-0.062992</td>\n",
       "      <td>0.769231</td>\n",
       "      <td>0.0000</td>\n",
       "      <td>1</td>\n",
       "      <td>0</td>\n",
       "      <td>0</td>\n",
       "      <td>0</td>\n",
       "      <td>0</td>\n",
       "      <td>...</td>\n",
       "      <td>0</td>\n",
       "      <td>0</td>\n",
       "      <td>0</td>\n",
       "      <td>1</td>\n",
       "      <td>0</td>\n",
       "      <td>0</td>\n",
       "      <td>1</td>\n",
       "      <td>0</td>\n",
       "      <td>1</td>\n",
       "      <td>0</td>\n",
       "    </tr>\n",
       "    <tr>\n",
       "      <th>4</th>\n",
       "      <td>0.148148</td>\n",
       "      <td>-0.50</td>\n",
       "      <td>1.795276</td>\n",
       "      <td>0.307692</td>\n",
       "      <td>-0.1250</td>\n",
       "      <td>0</td>\n",
       "      <td>1</td>\n",
       "      <td>0</td>\n",
       "      <td>0</td>\n",
       "      <td>0</td>\n",
       "      <td>...</td>\n",
       "      <td>0</td>\n",
       "      <td>0</td>\n",
       "      <td>0</td>\n",
       "      <td>1</td>\n",
       "      <td>0</td>\n",
       "      <td>0</td>\n",
       "      <td>1</td>\n",
       "      <td>0</td>\n",
       "      <td>1</td>\n",
       "      <td>0</td>\n",
       "    </tr>\n",
       "    <tr>\n",
       "      <th>...</th>\n",
       "      <td>...</td>\n",
       "      <td>...</td>\n",
       "      <td>...</td>\n",
       "      <td>...</td>\n",
       "      <td>...</td>\n",
       "      <td>...</td>\n",
       "      <td>...</td>\n",
       "      <td>...</td>\n",
       "      <td>...</td>\n",
       "      <td>...</td>\n",
       "      <td>...</td>\n",
       "      <td>...</td>\n",
       "      <td>...</td>\n",
       "      <td>...</td>\n",
       "      <td>...</td>\n",
       "      <td>...</td>\n",
       "      <td>...</td>\n",
       "      <td>...</td>\n",
       "      <td>...</td>\n",
       "      <td>...</td>\n",
       "      <td>...</td>\n",
       "    </tr>\n",
       "    <tr>\n",
       "      <th>298</th>\n",
       "      <td>0.148148</td>\n",
       "      <td>0.50</td>\n",
       "      <td>0.015748</td>\n",
       "      <td>-0.923077</td>\n",
       "      <td>-0.3750</td>\n",
       "      <td>0</td>\n",
       "      <td>1</td>\n",
       "      <td>0</td>\n",
       "      <td>0</td>\n",
       "      <td>0</td>\n",
       "      <td>...</td>\n",
       "      <td>0</td>\n",
       "      <td>0</td>\n",
       "      <td>0</td>\n",
       "      <td>1</td>\n",
       "      <td>0</td>\n",
       "      <td>1</td>\n",
       "      <td>0</td>\n",
       "      <td>0</td>\n",
       "      <td>0</td>\n",
       "      <td>1</td>\n",
       "    </tr>\n",
       "    <tr>\n",
       "      <th>299</th>\n",
       "      <td>-0.740741</td>\n",
       "      <td>-1.00</td>\n",
       "      <td>0.377953</td>\n",
       "      <td>-0.646154</td>\n",
       "      <td>0.2500</td>\n",
       "      <td>1</td>\n",
       "      <td>0</td>\n",
       "      <td>0</td>\n",
       "      <td>0</td>\n",
       "      <td>0</td>\n",
       "      <td>...</td>\n",
       "      <td>0</td>\n",
       "      <td>1</td>\n",
       "      <td>0</td>\n",
       "      <td>1</td>\n",
       "      <td>0</td>\n",
       "      <td>1</td>\n",
       "      <td>0</td>\n",
       "      <td>0</td>\n",
       "      <td>0</td>\n",
       "      <td>1</td>\n",
       "    </tr>\n",
       "    <tr>\n",
       "      <th>300</th>\n",
       "      <td>0.962963</td>\n",
       "      <td>0.70</td>\n",
       "      <td>-0.740157</td>\n",
       "      <td>-0.369231</td>\n",
       "      <td>1.6250</td>\n",
       "      <td>1</td>\n",
       "      <td>0</td>\n",
       "      <td>0</td>\n",
       "      <td>1</td>\n",
       "      <td>0</td>\n",
       "      <td>...</td>\n",
       "      <td>0</td>\n",
       "      <td>0</td>\n",
       "      <td>1</td>\n",
       "      <td>1</td>\n",
       "      <td>0</td>\n",
       "      <td>1</td>\n",
       "      <td>0</td>\n",
       "      <td>0</td>\n",
       "      <td>0</td>\n",
       "      <td>1</td>\n",
       "    </tr>\n",
       "    <tr>\n",
       "      <th>301</th>\n",
       "      <td>0.148148</td>\n",
       "      <td>0.00</td>\n",
       "      <td>-1.716535</td>\n",
       "      <td>-1.169231</td>\n",
       "      <td>0.2500</td>\n",
       "      <td>1</td>\n",
       "      <td>1</td>\n",
       "      <td>1</td>\n",
       "      <td>0</td>\n",
       "      <td>0</td>\n",
       "      <td>...</td>\n",
       "      <td>0</td>\n",
       "      <td>0</td>\n",
       "      <td>0</td>\n",
       "      <td>1</td>\n",
       "      <td>0</td>\n",
       "      <td>1</td>\n",
       "      <td>0</td>\n",
       "      <td>0</td>\n",
       "      <td>0</td>\n",
       "      <td>1</td>\n",
       "    </tr>\n",
       "    <tr>\n",
       "      <th>302</th>\n",
       "      <td>0.148148</td>\n",
       "      <td>0.00</td>\n",
       "      <td>-0.062992</td>\n",
       "      <td>0.646154</td>\n",
       "      <td>-0.5000</td>\n",
       "      <td>0</td>\n",
       "      <td>0</td>\n",
       "      <td>1</td>\n",
       "      <td>0</td>\n",
       "      <td>0</td>\n",
       "      <td>...</td>\n",
       "      <td>0</td>\n",
       "      <td>0</td>\n",
       "      <td>0</td>\n",
       "      <td>0</td>\n",
       "      <td>0</td>\n",
       "      <td>1</td>\n",
       "      <td>0</td>\n",
       "      <td>0</td>\n",
       "      <td>1</td>\n",
       "      <td>0</td>\n",
       "    </tr>\n",
       "  </tbody>\n",
       "</table>\n",
       "<p>303 rows × 22 columns</p>\n",
       "</div>"
      ],
      "text/plain": [
       "          age  trtbps      chol  thalachh  oldpeak  sex_1  exng_1  caa_1  \\\n",
       "0    0.592593    0.75 -0.110236 -0.092308   0.9375      1       0      0   \n",
       "1   -1.333333    0.00  0.157480  1.046154   1.6875      1       0      0   \n",
       "2   -1.037037    0.00 -0.566929  0.584615   0.3750      0       0      0   \n",
       "3    0.074074   -0.50 -0.062992  0.769231   0.0000      1       0      0   \n",
       "4    0.148148   -0.50  1.795276  0.307692  -0.1250      0       1      0   \n",
       "..        ...     ...       ...       ...      ...    ...     ...    ...   \n",
       "298  0.148148    0.50  0.015748 -0.923077  -0.3750      0       1      0   \n",
       "299 -0.740741   -1.00  0.377953 -0.646154   0.2500      1       0      0   \n",
       "300  0.962963    0.70 -0.740157 -0.369231   1.6250      1       0      0   \n",
       "301  0.148148    0.00 -1.716535 -1.169231   0.2500      1       1      1   \n",
       "302  0.148148    0.00 -0.062992  0.646154  -0.5000      0       0      1   \n",
       "\n",
       "     caa_2  caa_3  ...  cp_2  cp_3  fbs_1  restecg_1  restecg_2  slp_1  slp_2  \\\n",
       "0        0      0  ...     0     1      1          0          0      0      0   \n",
       "1        0      0  ...     1     0      0          1          0      0      0   \n",
       "2        0      0  ...     0     0      0          0          0      0      1   \n",
       "3        0      0  ...     0     0      0          1          0      0      1   \n",
       "4        0      0  ...     0     0      0          1          0      0      1   \n",
       "..     ...    ...  ...   ...   ...    ...        ...        ...    ...    ...   \n",
       "298      0      0  ...     0     0      0          1          0      1      0   \n",
       "299      0      0  ...     0     1      0          1          0      1      0   \n",
       "300      1      0  ...     0     0      1          1          0      1      0   \n",
       "301      0      0  ...     0     0      0          1          0      1      0   \n",
       "302      0      0  ...     0     0      0          0          0      1      0   \n",
       "\n",
       "     thall_1  thall_2  thall_3  \n",
       "0          1        0        0  \n",
       "1          0        1        0  \n",
       "2          0        1        0  \n",
       "3          0        1        0  \n",
       "4          0        1        0  \n",
       "..       ...      ...      ...  \n",
       "298        0        0        1  \n",
       "299        0        0        1  \n",
       "300        0        0        1  \n",
       "301        0        0        1  \n",
       "302        0        1        0  \n",
       "\n",
       "[303 rows x 22 columns]"
      ]
     },
     "execution_count": 8,
     "metadata": {},
     "output_type": "execute_result"
    }
   ],
   "source": [
    "# Scaling the continuous numerical columns\n",
    "scaler = RobustScaler()\n",
    "X[con_cols] = scaler.fit_transform(X[con_cols])\n",
    "X"
   ]
  },
  {
   "cell_type": "markdown",
   "metadata": {
    "id": "mC9VVaIFDMQh"
   },
   "source": [
    "# Hyperparameter Tuning with Grid Search CV"
   ]
  },
  {
   "cell_type": "markdown",
   "metadata": {
    "id": "eN-GMRfPDYG0"
   },
   "source": [
    "## Support Vector Machines"
   ]
  },
  {
   "cell_type": "code",
   "execution_count": 9,
   "metadata": {
    "colab": {
     "base_uri": "https://localhost:8080/"
    },
    "id": "f6cDo72RDcN9",
    "outputId": "6a0c5337-2d1e-48ff-955a-53da3752d001"
   },
   "outputs": [
    {
     "data": {
      "text/plain": [
       "GridSearchCV(cv=10, estimator=SVC(),\n",
       "             param_grid={'C': array([1, 2, 3, 4, 5, 6, 7, 8, 9]),\n",
       "                         'gamma': [0.01, 0.05, 0.1, 0.5, 1, 0.001, 0.005],\n",
       "                         'kernel': ['rbf', 'linear']})"
      ]
     },
     "execution_count": 9,
     "metadata": {},
     "output_type": "execute_result"
    }
   ],
   "source": [
    "svc = SVC()\n",
    "parameters = {\"C\":np.arange(1,10,1),'gamma':[0.01,0.05,0.1,0.5,1, 0.001, 0.005], 'kernel':['rbf','linear']}\n",
    "gs_svm = GridSearchCV(svc, parameters, cv=10)\n",
    "gs_svm.fit(X, y)"
   ]
  },
  {
   "cell_type": "code",
   "execution_count": 10,
   "metadata": {
    "colab": {
     "base_uri": "https://localhost:8080/"
    },
    "id": "TeD59GtVE8E1",
    "outputId": "235a9701-f1ec-4b0f-bdf9-559ba73cf2ec"
   },
   "outputs": [
    {
     "data": {
      "text/plain": [
       "({'C': 7, 'gamma': 0.05, 'kernel': 'rbf'}, 0.8512903225806451)"
      ]
     },
     "execution_count": 10,
     "metadata": {},
     "output_type": "execute_result"
    }
   ],
   "source": [
    "svm_results = pd.DataFrame(gs_svm.cv_results_)\n",
    "gs_svm.best_params_, gs_svm.best_score_"
   ]
  },
  {
   "cell_type": "markdown",
   "metadata": {
    "id": "e9SD0RPxFvpg"
   },
   "source": [
    "## Random Forest"
   ]
  },
  {
   "cell_type": "code",
   "execution_count": 11,
   "metadata": {
    "colab": {
     "base_uri": "https://localhost:8080/"
    },
    "id": "h6mkLE2OGIF-",
    "outputId": "cea4e4b8-d909-43e9-aa4e-26ceef210bc2"
   },
   "outputs": [
    {
     "data": {
      "text/plain": [
       "GridSearchCV(cv=10, estimator=RandomForestClassifier(),\n",
       "             param_grid={'criterion': ['gini', 'entropy'],\n",
       "                         'min_samples_leaf': [None, 3, 5, 10],\n",
       "                         'n_estimators': [75, 100, 150]})"
      ]
     },
     "execution_count": 11,
     "metadata": {},
     "output_type": "execute_result"
    }
   ],
   "source": [
    "rf = RandomForestClassifier()\n",
    "parameters = {\"n_estimators\":[75,100,150], \"min_samples_leaf\":[None,3,5,10], \"criterion\":[\"gini\",\"entropy\"]}\n",
    "gs_rf = GridSearchCV(rf, parameters, cv=10)\n",
    "gs_rf.fit(X, y)"
   ]
  },
  {
   "cell_type": "code",
   "execution_count": 12,
   "metadata": {
    "colab": {
     "base_uri": "https://localhost:8080/"
    },
    "id": "dslHmxjyHcwI",
    "outputId": "bd46f3a9-fc30-488d-87ff-ab84f35fea85"
   },
   "outputs": [
    {
     "data": {
      "text/plain": [
       "({'criterion': 'entropy', 'min_samples_leaf': 3, 'n_estimators': 100},\n",
       " 0.8019354838709678)"
      ]
     },
     "execution_count": 12,
     "metadata": {},
     "output_type": "execute_result"
    }
   ],
   "source": [
    "rf_results = pd.DataFrame(gs_rf.cv_results_)\n",
    "gs_rf.best_params_, gs_rf.best_score_"
   ]
  },
  {
   "cell_type": "markdown",
   "metadata": {
    "id": "ct44lMxqFzlo"
   },
   "source": [
    "## K Nearest Neighbors"
   ]
  },
  {
   "cell_type": "code",
   "execution_count": 13,
   "metadata": {
    "colab": {
     "base_uri": "https://localhost:8080/"
    },
    "id": "ldimM2c7GI4p",
    "outputId": "c65a626d-f340-429f-c707-061230bc8941"
   },
   "outputs": [
    {
     "data": {
      "text/plain": [
       "GridSearchCV(cv=10, estimator=KNeighborsClassifier(),\n",
       "             param_grid={'n_neighbors': array([ 1,  3,  5,  7,  9, 11, 13, 15, 17, 19, 21, 23, 25, 27, 29, 31, 33,\n",
       "       35, 37, 39, 41, 43, 45, 47, 49])})"
      ]
     },
     "execution_count": 13,
     "metadata": {},
     "output_type": "execute_result"
    }
   ],
   "source": [
    "knn = KNeighborsClassifier()\n",
    "parameters = {\"n_neighbors\":np.arange(1,50,2)}\n",
    "gs_knn = GridSearchCV(knn, parameters, cv=10)\n",
    "gs_knn.fit(X, y)"
   ]
  },
  {
   "cell_type": "code",
   "execution_count": 14,
   "metadata": {
    "colab": {
     "base_uri": "https://localhost:8080/"
    },
    "id": "f7J_1xOzJEvc",
    "outputId": "462c2580-b008-413c-f598-0a94fbaffaef"
   },
   "outputs": [
    {
     "data": {
      "text/plain": [
       "({'n_neighbors': 5}, 0.8183870967741935)"
      ]
     },
     "execution_count": 14,
     "metadata": {},
     "output_type": "execute_result"
    }
   ],
   "source": [
    "knn_results = pd.DataFrame(gs_knn.cv_results_)\n",
    "gs_knn.best_params_, gs_knn.best_score_"
   ]
  },
  {
   "cell_type": "markdown",
   "metadata": {
    "id": "YhtlDYU4Cic0"
   },
   "source": [
    "# Utility Functions"
   ]
  },
  {
   "cell_type": "code",
   "execution_count": 15,
   "metadata": {
    "id": "IvPyi0J4fP1l"
   },
   "outputs": [],
   "source": [
    "def get_model_score(model, X_train,X_test, y_train, y_test, fold):\n",
    "  model.fit(X_train, y_train)\n",
    "  y_preds = model.predict(X_test)\n",
    "\n",
    "  s = \"*\" * 100\n",
    "  print(s)\n",
    "  print(\"RESULTS FOR FOLD \"+ str(fold))\n",
    "\n",
    "  print(\"\\n\\nConfusion Matrix\")\n",
    "  cm = confusion_matrix(y_test, y_preds)\n",
    "  plot_confusion_matrix(model, X_test, y_test, cmap=plt.cm.Blues)  \n",
    "  plt.show()\n",
    "\n",
    "  TN, FP, FN, TP = cm.ravel()\n",
    "\n",
    "  TPR = TP/(TP+FN)\n",
    "  TNR = TN/(TN+FP) \n",
    "  PPV = TP/(TP+FP)\n",
    "  NPV = TN/(TN+FN)\n",
    "  FPR = FP/(FP+TN)\n",
    "  FNR = FN/(TP+FN)\n",
    "  FDR = FP/(TP+FP)\n",
    "\n",
    "  ACC = model.score(X_test, y_test)\n",
    "\n",
    "  print(\"True Positive: \", TP)\n",
    "  print(\"True Negative: \", TN)\n",
    "  print(\"Flase Positive: \", FP)\n",
    "  print(\"Flase Negative: \", FN)\n",
    "  print(\"True Postivie Rate\", TPR)\n",
    "  print(\"True Negativie Rate: \", TNR)\n",
    "  print(\"Positive Prediction Value: \", PPV)\n",
    "  print(\"Negative Prediction Value: \", NPV)\n",
    "  print(\"False Positive Rate: \", FPR)\n",
    "  print(\"False Negative Rate: \", FNR)\n",
    "  print(\"False Discovery Rate: \",FDR)\n",
    "  print(f\"Accuracy: {ACC*100:.2f}%\")\n",
    "  print(\"\\n\\n\")\n",
    "\n",
    "  return ACC"
   ]
  },
  {
   "cell_type": "markdown",
   "metadata": {
    "id": "rJusfps4FKkZ"
   },
   "source": [
    "# Initializing all models with best parameters (found by GridSearchCV)"
   ]
  },
  {
   "cell_type": "code",
   "execution_count": 22,
   "metadata": {
    "id": "l7JOv5JNFHYg"
   },
   "outputs": [],
   "source": [
    "#Initializing all models\n",
    "\n",
    "svc = SVC(C=7, gamma=0.05, kernel='rbf')\n",
    "knn = KNeighborsClassifier(n_neighbors=5, n_jobs=-1)\n",
    "rf = RandomForestClassifier(n_jobs=-1, n_estimators=150, min_samples_leaf=3, criterion=\"entropy\")\n",
    "nb = GaussianNB()\n",
    "\n",
    "# Initilialization of 10-fold Cross Validation (Stratified) and Scores dictionary to store results\n",
    "kf = StratifiedKFold(n_splits=10, random_state=15)\n",
    "scores = defaultdict(list)"
   ]
  },
  {
   "cell_type": "markdown",
   "metadata": {
    "id": "hqKj9tPHCTKL"
   },
   "source": [
    "# 1. Random Forest with 10-Fold Cross Validation"
   ]
  },
  {
   "cell_type": "code",
   "execution_count": 17,
   "metadata": {
    "colab": {
     "base_uri": "https://localhost:8080/",
     "height": 1000
    },
    "id": "f49bFA7MCZ_M",
    "outputId": "b522a24c-d300-422d-93c5-790389c31ee7"
   },
   "outputs": [
    {
     "name": "stdout",
     "output_type": "stream",
     "text": [
      "****************************************************************************************************\n",
      "RESULTS FOR FOLD 1\n",
      "\n",
      "\n",
      "Confusion Matrix\n"
     ]
    },
    {
     "data": {
      "image/png": "[encoded data removed]",
      "text/plain": [
       "<Figure size 432x288 with 2 Axes>"
      ]
     },
     "metadata": {
      "needs_background": "light"
     },
     "output_type": "display_data"
    },
    {
     "name": "stdout",
     "output_type": "stream",
     "text": [
      "True Positive:  15\n",
      "True Negative:  10\n",
      "Flase Positive:  4\n",
      "Flase Negative:  2\n",
      "True Postivie Rate 0.8823529411764706\n",
      "True Negativie Rate:  0.7142857142857143\n",
      "Positive Prediction Value:  0.7894736842105263\n",
      "Negative Prediction Value:  0.8333333333333334\n",
      "False Positive Rate:  0.2857142857142857\n",
      "False Negative Rate:  0.11764705882352941\n",
      "False Discovery Rate:  0.21052631578947367\n",
      "Accuracy: 80.65%\n",
      "\n",
      "\n",
      "\n",
      "****************************************************************************************************\n",
      "RESULTS FOR FOLD 2\n",
      "\n",
      "\n",
      "Confusion Matrix\n"
     ]
    },
    {
     "data": {
      "image/png": "[encoded data removed]",
      "text/plain": [
       "<Figure size 432x288 with 2 Axes>"
      ]
     },
     "metadata": {
      "needs_background": "light"
     },
     "output_type": "display_data"
    },
    {
     "name": "stdout",
     "output_type": "stream",
     "text": [
      "True Positive:  12\n",
      "True Negative:  11\n",
      "Flase Positive:  3\n",
      "Flase Negative:  5\n",
      "True Postivie Rate 0.7058823529411765\n",
      "True Negativie Rate:  0.7857142857142857\n",
      "Positive Prediction Value:  0.8\n",
      "Negative Prediction Value:  0.6875\n",
      "False Positive Rate:  0.21428571428571427\n",
      "False Negative Rate:  0.29411764705882354\n",
      "False Discovery Rate:  0.2\n",
      "Accuracy: 74.19%\n",
      "\n",
      "\n",
      "\n",
      "****************************************************************************************************\n",
      "RESULTS FOR FOLD 3\n",
      "\n",
      "\n",
      "Confusion Matrix\n"
     ]
    },
    {
     "data": {
      "image/png": "[encoded data removed]",
      "text/plain": [
       "<Figure size 432x288 with 2 Axes>"
      ]
     },
     "metadata": {
      "needs_background": "light"
     },
     "output_type": "display_data"
    },
    {
     "name": "stdout",
     "output_type": "stream",
     "text": [
      "True Positive:  14\n",
      "True Negative:  10\n",
      "Flase Positive:  4\n",
      "Flase Negative:  3\n",
      "True Postivie Rate 0.8235294117647058\n",
      "True Negativie Rate:  0.7142857142857143\n",
      "Positive Prediction Value:  0.7777777777777778\n",
      "Negative Prediction Value:  0.7692307692307693\n",
      "False Positive Rate:  0.2857142857142857\n",
      "False Negative Rate:  0.17647058823529413\n",
      "False Discovery Rate:  0.2222222222222222\n",
      "Accuracy: 77.42%\n",
      "\n",
      "\n",
      "\n",
      "****************************************************************************************************\n",
      "RESULTS FOR FOLD 4\n",
      "\n",
      "\n",
      "Confusion Matrix\n"
     ]
    },
    {
     "data": {
      "image/png": "[encoded data removed]",
      "text/plain": [
       "<Figure size 432x288 with 2 Axes>"
      ]
     },
     "metadata": {
      "needs_background": "light"
     },
     "output_type": "display_data"
    },
    {
     "name": "stdout",
     "output_type": "stream",
     "text": [
      "True Positive:  16\n",
      "True Negative:  13\n",
      "Flase Positive:  0\n",
      "Flase Negative:  1\n",
      "True Postivie Rate 0.9411764705882353\n",
      "True Negativie Rate:  1.0\n",
      "Positive Prediction Value:  1.0\n",
      "Negative Prediction Value:  0.9285714285714286\n",
      "False Positive Rate:  0.0\n",
      "False Negative Rate:  0.058823529411764705\n",
      "False Discovery Rate:  0.0\n",
      "Accuracy: 96.67%\n",
      "\n",
      "\n",
      "\n",
      "****************************************************************************************************\n",
      "RESULTS FOR FOLD 5\n",
      "\n",
      "\n",
      "Confusion Matrix\n"
     ]
    },
    {
     "data": {
      "image/png": "[encoded data removed]",
      "text/plain": [
       "<Figure size 432x288 with 2 Axes>"
      ]
     },
     "metadata": {
      "needs_background": "light"
     },
     "output_type": "display_data"
    },
    {
     "name": "stdout",
     "output_type": "stream",
     "text": [
      "True Positive:  13\n",
      "True Negative:  11\n",
      "Flase Positive:  2\n",
      "Flase Negative:  4\n",
      "True Postivie Rate 0.7647058823529411\n",
      "True Negativie Rate:  0.8461538461538461\n",
      "Positive Prediction Value:  0.8666666666666667\n",
      "Negative Prediction Value:  0.7333333333333333\n",
      "False Positive Rate:  0.15384615384615385\n",
      "False Negative Rate:  0.23529411764705882\n",
      "False Discovery Rate:  0.13333333333333333\n",
      "Accuracy: 80.00%\n",
      "\n",
      "\n",
      "\n",
      "****************************************************************************************************\n",
      "RESULTS FOR FOLD 6\n",
      "\n",
      "\n",
      "Confusion Matrix\n"
     ]
    },
    {
     "data": {
      "image/png": "[encoded data removed]",
      "text/plain": [
       "<Figure size 432x288 with 2 Axes>"
      ]
     },
     "metadata": {
      "needs_background": "light"
     },
     "output_type": "display_data"
    },
    {
     "name": "stdout",
     "output_type": "stream",
     "text": [
      "True Positive:  11\n",
      "True Negative:  13\n",
      "Flase Positive:  1\n",
      "Flase Negative:  5\n",
      "True Postivie Rate 0.6875\n",
      "True Negativie Rate:  0.9285714285714286\n",
      "Positive Prediction Value:  0.9166666666666666\n",
      "Negative Prediction Value:  0.7222222222222222\n",
      "False Positive Rate:  0.07142857142857142\n",
      "False Negative Rate:  0.3125\n",
      "False Discovery Rate:  0.08333333333333333\n",
      "Accuracy: 80.00%\n",
      "\n",
      "\n",
      "\n",
      "****************************************************************************************************\n",
      "RESULTS FOR FOLD 7\n",
      "\n",
      "\n",
      "Confusion Matrix\n"
     ]
    },
    {
     "data": {
      "image/png": "[encoded data removed]",
      "text/plain": [
       "<Figure size 432x288 with 2 Axes>"
      ]
     },
     "metadata": {
      "needs_background": "light"
     },
     "output_type": "display_data"
    },
    {
     "name": "stdout",
     "output_type": "stream",
     "text": [
      "True Positive:  13\n",
      "True Negative:  12\n",
      "Flase Positive:  2\n",
      "Flase Negative:  3\n",
      "True Postivie Rate 0.8125\n",
      "True Negativie Rate:  0.8571428571428571\n",
      "Positive Prediction Value:  0.8666666666666667\n",
      "Negative Prediction Value:  0.8\n",
      "False Positive Rate:  0.14285714285714285\n",
      "False Negative Rate:  0.1875\n",
      "False Discovery Rate:  0.13333333333333333\n",
      "Accuracy: 83.33%\n",
      "\n",
      "\n",
      "\n",
      "****************************************************************************************************\n",
      "RESULTS FOR FOLD 8\n",
      "\n",
      "\n",
      "Confusion Matrix\n"
     ]
    },
    {
     "data": {
      "image/png": "[encoded data removed]",
      "text/plain": [
       "<Figure size 432x288 with 2 Axes>"
      ]
     },
     "metadata": {
      "needs_background": "light"
     },
     "output_type": "display_data"
    },
    {
     "name": "stdout",
     "output_type": "stream",
     "text": [
      "True Positive:  14\n",
      "True Negative:  7\n",
      "Flase Positive:  7\n",
      "Flase Negative:  2\n",
      "True Postivie Rate 0.875\n",
      "True Negativie Rate:  0.5\n",
      "Positive Prediction Value:  0.6666666666666666\n",
      "Negative Prediction Value:  0.7777777777777778\n",
      "False Positive Rate:  0.5\n",
      "False Negative Rate:  0.125\n",
      "False Discovery Rate:  0.3333333333333333\n",
      "Accuracy: 70.00%\n",
      "\n",
      "\n",
      "\n",
      "****************************************************************************************************\n",
      "RESULTS FOR FOLD 9\n",
      "\n",
      "\n",
      "Confusion Matrix\n"
     ]
    },
    {
     "data": {
      "image/png": "[encoded data removed]",
      "text/plain": [
       "<Figure size 432x288 with 2 Axes>"
      ]
     },
     "metadata": {
      "needs_background": "light"
     },
     "output_type": "display_data"
    },
    {
     "name": "stdout",
     "output_type": "stream",
     "text": [
      "True Positive:  14\n",
      "True Negative:  8\n",
      "Flase Positive:  6\n",
      "Flase Negative:  2\n",
      "True Postivie Rate 0.875\n",
      "True Negativie Rate:  0.5714285714285714\n",
      "Positive Prediction Value:  0.7\n",
      "Negative Prediction Value:  0.8\n",
      "False Positive Rate:  0.42857142857142855\n",
      "False Negative Rate:  0.125\n",
      "False Discovery Rate:  0.3\n",
      "Accuracy: 73.33%\n",
      "\n",
      "\n",
      "\n",
      "****************************************************************************************************\n",
      "RESULTS FOR FOLD 10\n",
      "\n",
      "\n",
      "Confusion Matrix\n"
     ]
    },
    {
     "data": {
      "image/png": "[encoded data removed]",
      "text/plain": [
       "<Figure size 432x288 with 2 Axes>"
      ]
     },
     "metadata": {
      "needs_background": "light"
     },
     "output_type": "display_data"
    },
    {
     "name": "stdout",
     "output_type": "stream",
     "text": [
      "True Positive:  13\n",
      "True Negative:  11\n",
      "Flase Positive:  3\n",
      "Flase Negative:  3\n",
      "True Postivie Rate 0.8125\n",
      "True Negativie Rate:  0.7857142857142857\n",
      "Positive Prediction Value:  0.8125\n",
      "Negative Prediction Value:  0.7857142857142857\n",
      "False Positive Rate:  0.21428571428571427\n",
      "False Negative Rate:  0.1875\n",
      "False Discovery Rate:  0.1875\n",
      "Accuracy: 80.00%\n",
      "\n",
      "\n",
      "\n"
     ]
    }
   ],
   "source": [
    "fold = 1\n",
    "for train_index, test_index in kf.split(X,y):\n",
    "  X_train, X_test, y_train, y_test = X.iloc[train_index], X.iloc[test_index], y.iloc[train_index], y.iloc[test_index]\n",
    "  scores['Random Forest'].append(get_model_score(rf, X_train, X_test, y_train, y_test, fold))\n",
    "  fold+=1\n",
    "\n",
    "#Appending the average score across the 10-Folds\n",
    "scores['Random Forest'].append(np.mean(scores['Random Forest']))"
   ]
  },
  {
   "cell_type": "markdown",
   "metadata": {
    "id": "SyG9p1l-BPii"
   },
   "source": [
    "# 2. Support Vector Machine with 10-Fold Cross Validation"
   ]
  },
  {
   "cell_type": "code",
   "execution_count": 18,
   "metadata": {
    "colab": {
     "base_uri": "https://localhost:8080/",
     "height": 0
    },
    "id": "TMbhnXyC64tv",
    "outputId": "629397c1-02af-48f3-a1fd-0cb56f516b84"
   },
   "outputs": [
    {
     "name": "stdout",
     "output_type": "stream",
     "text": [
      "****************************************************************************************************\n",
      "RESULTS FOR FOLD 1\n",
      "\n",
      "\n",
      "Confusion Matrix\n"
     ]
    },
    {
     "data": {
      "image/png": "[encoded data removed]",
      "text/plain": [
       "<Figure size 432x288 with 2 Axes>"
      ]
     },
     "metadata": {
      "needs_background": "light"
     },
     "output_type": "display_data"
    },
    {
     "name": "stdout",
     "output_type": "stream",
     "text": [
      "True Positive:  17\n",
      "True Negative:  11\n",
      "Flase Positive:  3\n",
      "Flase Negative:  0\n",
      "True Postivie Rate 1.0\n",
      "True Negativie Rate:  0.7857142857142857\n",
      "Positive Prediction Value:  0.85\n",
      "Negative Prediction Value:  1.0\n",
      "False Positive Rate:  0.21428571428571427\n",
      "False Negative Rate:  0.0\n",
      "False Discovery Rate:  0.15\n",
      "Accuracy: 90.32%\n",
      "\n",
      "\n",
      "\n",
      "****************************************************************************************************\n",
      "RESULTS FOR FOLD 2\n",
      "\n",
      "\n",
      "Confusion Matrix\n"
     ]
    },
    {
     "data": {
      "image/png": "[encoded data removed]",
      "text/plain": [
       "<Figure size 432x288 with 2 Axes>"
      ]
     },
     "metadata": {
      "needs_background": "light"
     },
     "output_type": "display_data"
    },
    {
     "name": "stdout",
     "output_type": "stream",
     "text": [
      "True Positive:  14\n",
      "True Negative:  12\n",
      "Flase Positive:  2\n",
      "Flase Negative:  3\n",
      "True Postivie Rate 0.8235294117647058\n",
      "True Negativie Rate:  0.8571428571428571\n",
      "Positive Prediction Value:  0.875\n",
      "Negative Prediction Value:  0.8\n",
      "False Positive Rate:  0.14285714285714285\n",
      "False Negative Rate:  0.17647058823529413\n",
      "False Discovery Rate:  0.125\n",
      "Accuracy: 83.87%\n",
      "\n",
      "\n",
      "\n",
      "****************************************************************************************************\n",
      "RESULTS FOR FOLD 3\n",
      "\n",
      "\n",
      "Confusion Matrix\n"
     ]
    },
    {
     "data": {
      "image/png": "[encoded data removed]",
      "text/plain": [
       "<Figure size 432x288 with 2 Axes>"
      ]
     },
     "metadata": {
      "needs_background": "light"
     },
     "output_type": "display_data"
    },
    {
     "name": "stdout",
     "output_type": "stream",
     "text": [
      "True Positive:  15\n",
      "True Negative:  12\n",
      "Flase Positive:  2\n",
      "Flase Negative:  2\n",
      "True Postivie Rate 0.8823529411764706\n",
      "True Negativie Rate:  0.8571428571428571\n",
      "Positive Prediction Value:  0.8823529411764706\n",
      "Negative Prediction Value:  0.8571428571428571\n",
      "False Positive Rate:  0.14285714285714285\n",
      "False Negative Rate:  0.11764705882352941\n",
      "False Discovery Rate:  0.11764705882352941\n",
      "Accuracy: 87.10%\n",
      "\n",
      "\n",
      "\n",
      "****************************************************************************************************\n",
      "RESULTS FOR FOLD 4\n",
      "\n",
      "\n",
      "Confusion Matrix\n"
     ]
    },
    {
     "data": {
      "image/png": "[encoded data removed]",
      "text/plain": [
       "<Figure size 432x288 with 2 Axes>"
      ]
     },
     "metadata": {
      "needs_background": "light"
     },
     "output_type": "display_data"
    },
    {
     "name": "stdout",
     "output_type": "stream",
     "text": [
      "True Positive:  16\n",
      "True Negative:  13\n",
      "Flase Positive:  0\n",
      "Flase Negative:  1\n",
      "True Postivie Rate 0.9411764705882353\n",
      "True Negativie Rate:  1.0\n",
      "Positive Prediction Value:  1.0\n",
      "Negative Prediction Value:  0.9285714285714286\n",
      "False Positive Rate:  0.0\n",
      "False Negative Rate:  0.058823529411764705\n",
      "False Discovery Rate:  0.0\n",
      "Accuracy: 96.67%\n",
      "\n",
      "\n",
      "\n",
      "****************************************************************************************************\n",
      "RESULTS FOR FOLD 5\n",
      "\n",
      "\n",
      "Confusion Matrix\n"
     ]
    },
    {
     "data": {
      "image/png": "[encoded data removed]",
      "text/plain": [
       "<Figure size 432x288 with 2 Axes>"
      ]
     },
     "metadata": {
      "needs_background": "light"
     },
     "output_type": "display_data"
    },
    {
     "name": "stdout",
     "output_type": "stream",
     "text": [
      "True Positive:  14\n",
      "True Negative:  10\n",
      "Flase Positive:  3\n",
      "Flase Negative:  3\n",
      "True Postivie Rate 0.8235294117647058\n",
      "True Negativie Rate:  0.7692307692307693\n",
      "Positive Prediction Value:  0.8235294117647058\n",
      "Negative Prediction Value:  0.7692307692307693\n",
      "False Positive Rate:  0.23076923076923078\n",
      "False Negative Rate:  0.17647058823529413\n",
      "False Discovery Rate:  0.17647058823529413\n",
      "Accuracy: 80.00%\n",
      "\n",
      "\n",
      "\n",
      "****************************************************************************************************\n",
      "RESULTS FOR FOLD 6\n",
      "\n",
      "\n",
      "Confusion Matrix\n"
     ]
    },
    {
     "data": {
      "image/png": "[encoded data removed]",
      "text/plain": [
       "<Figure size 432x288 with 2 Axes>"
      ]
     },
     "metadata": {
      "needs_background": "light"
     },
     "output_type": "display_data"
    },
    {
     "name": "stdout",
     "output_type": "stream",
     "text": [
      "True Positive:  13\n",
      "True Negative:  13\n",
      "Flase Positive:  1\n",
      "Flase Negative:  3\n",
      "True Postivie Rate 0.8125\n",
      "True Negativie Rate:  0.9285714285714286\n",
      "Positive Prediction Value:  0.9285714285714286\n",
      "Negative Prediction Value:  0.8125\n",
      "False Positive Rate:  0.07142857142857142\n",
      "False Negative Rate:  0.1875\n",
      "False Discovery Rate:  0.07142857142857142\n",
      "Accuracy: 86.67%\n",
      "\n",
      "\n",
      "\n",
      "****************************************************************************************************\n",
      "RESULTS FOR FOLD 7\n",
      "\n",
      "\n",
      "Confusion Matrix\n"
     ]
    },
    {
     "data": {
      "image/png": "[encoded data removed]",
      "text/plain": [
       "<Figure size 432x288 with 2 Axes>"
      ]
     },
     "metadata": {
      "needs_background": "light"
     },
     "output_type": "display_data"
    },
    {
     "name": "stdout",
     "output_type": "stream",
     "text": [
      "True Positive:  13\n",
      "True Negative:  13\n",
      "Flase Positive:  1\n",
      "Flase Negative:  3\n",
      "True Postivie Rate 0.8125\n",
      "True Negativie Rate:  0.9285714285714286\n",
      "Positive Prediction Value:  0.9285714285714286\n",
      "Negative Prediction Value:  0.8125\n",
      "False Positive Rate:  0.07142857142857142\n",
      "False Negative Rate:  0.1875\n",
      "False Discovery Rate:  0.07142857142857142\n",
      "Accuracy: 86.67%\n",
      "\n",
      "\n",
      "\n",
      "****************************************************************************************************\n",
      "RESULTS FOR FOLD 8\n",
      "\n",
      "\n",
      "Confusion Matrix\n"
     ]
    },
    {
     "data": {
      "image/png": "[encoded data removed]",
      "text/plain": [
       "<Figure size 432x288 with 2 Axes>"
      ]
     },
     "metadata": {
      "needs_background": "light"
     },
     "output_type": "display_data"
    },
    {
     "name": "stdout",
     "output_type": "stream",
     "text": [
      "True Positive:  15\n",
      "True Negative:  8\n",
      "Flase Positive:  6\n",
      "Flase Negative:  1\n",
      "True Postivie Rate 0.9375\n",
      "True Negativie Rate:  0.5714285714285714\n",
      "Positive Prediction Value:  0.7142857142857143\n",
      "Negative Prediction Value:  0.8888888888888888\n",
      "False Positive Rate:  0.42857142857142855\n",
      "False Negative Rate:  0.0625\n",
      "False Discovery Rate:  0.2857142857142857\n",
      "Accuracy: 76.67%\n",
      "\n",
      "\n",
      "\n",
      "****************************************************************************************************\n",
      "RESULTS FOR FOLD 9\n",
      "\n",
      "\n",
      "Confusion Matrix\n"
     ]
    },
    {
     "data": {
      "image/png": "[encoded data removed]",
      "text/plain": [
       "<Figure size 432x288 with 2 Axes>"
      ]
     },
     "metadata": {
      "needs_background": "light"
     },
     "output_type": "display_data"
    },
    {
     "name": "stdout",
     "output_type": "stream",
     "text": [
      "True Positive:  14\n",
      "True Negative:  9\n",
      "Flase Positive:  5\n",
      "Flase Negative:  2\n",
      "True Postivie Rate 0.875\n",
      "True Negativie Rate:  0.6428571428571429\n",
      "Positive Prediction Value:  0.7368421052631579\n",
      "Negative Prediction Value:  0.8181818181818182\n",
      "False Positive Rate:  0.35714285714285715\n",
      "False Negative Rate:  0.125\n",
      "False Discovery Rate:  0.2631578947368421\n",
      "Accuracy: 76.67%\n",
      "\n",
      "\n",
      "\n",
      "****************************************************************************************************\n",
      "RESULTS FOR FOLD 10\n",
      "\n",
      "\n",
      "Confusion Matrix\n"
     ]
    },
    {
     "data": {
      "image/png": "[encoded data removed]",
      "text/plain": [
       "<Figure size 432x288 with 2 Axes>"
      ]
     },
     "metadata": {
      "needs_background": "light"
     },
     "output_type": "display_data"
    },
    {
     "name": "stdout",
     "output_type": "stream",
     "text": [
      "True Positive:  16\n",
      "True Negative:  10\n",
      "Flase Positive:  4\n",
      "Flase Negative:  0\n",
      "True Postivie Rate 1.0\n",
      "True Negativie Rate:  0.7142857142857143\n",
      "Positive Prediction Value:  0.8\n",
      "Negative Prediction Value:  1.0\n",
      "False Positive Rate:  0.2857142857142857\n",
      "False Negative Rate:  0.0\n",
      "False Discovery Rate:  0.2\n",
      "Accuracy: 86.67%\n",
      "\n",
      "\n",
      "\n"
     ]
    }
   ],
   "source": [
    "fold = 1\n",
    "for train_index, test_index in kf.split(X,y):\n",
    "  X_train, X_test, y_train, y_test = X.iloc[train_index], X.iloc[test_index], y.iloc[train_index], y.iloc[test_index]\n",
    "  scores['SVM'].append(get_model_score(svc, X_train, X_test, y_train, y_test, fold))\n",
    "  fold+=1\n",
    "\n",
    "scores['SVM'].append(np.mean(scores['SVM']))"
   ]
  },
  {
   "cell_type": "markdown",
   "metadata": {
    "id": "TQY7SXfvEY56"
   },
   "source": [
    "# 3. K Nearest Neighbours with 10-Fold Cross Validation"
   ]
  },
  {
   "cell_type": "code",
   "execution_count": 19,
   "metadata": {
    "colab": {
     "base_uri": "https://localhost:8080/",
     "height": 1000
    },
    "id": "1I8l0eYyppAu",
    "outputId": "f0abf992-d22c-41fe-88e5-6c2417fddc5b"
   },
   "outputs": [
    {
     "name": "stdout",
     "output_type": "stream",
     "text": [
      "****************************************************************************************************\n",
      "RESULTS FOR FOLD 1\n",
      "\n",
      "\n",
      "Confusion Matrix\n"
     ]
    },
    {
     "data": {
      "image/png": "[encoded data removed]",
      "text/plain": [
       "<Figure size 432x288 with 2 Axes>"
      ]
     },
     "metadata": {
      "needs_background": "light"
     },
     "output_type": "display_data"
    },
    {
     "name": "stdout",
     "output_type": "stream",
     "text": [
      "True Positive:  16\n",
      "True Negative:  10\n",
      "Flase Positive:  4\n",
      "Flase Negative:  1\n",
      "True Postivie Rate 0.9411764705882353\n",
      "True Negativie Rate:  0.7142857142857143\n",
      "Positive Prediction Value:  0.8\n",
      "Negative Prediction Value:  0.9090909090909091\n",
      "False Positive Rate:  0.2857142857142857\n",
      "False Negative Rate:  0.058823529411764705\n",
      "False Discovery Rate:  0.2\n",
      "Accuracy: 83.87%\n",
      "\n",
      "\n",
      "\n",
      "****************************************************************************************************\n",
      "RESULTS FOR FOLD 2\n",
      "\n",
      "\n",
      "Confusion Matrix\n"
     ]
    },
    {
     "data": {
      "image/png": "[encoded data removed]",
      "text/plain": [
       "<Figure size 432x288 with 2 Axes>"
      ]
     },
     "metadata": {
      "needs_background": "light"
     },
     "output_type": "display_data"
    },
    {
     "name": "stdout",
     "output_type": "stream",
     "text": [
      "True Positive:  13\n",
      "True Negative:  11\n",
      "Flase Positive:  3\n",
      "Flase Negative:  4\n",
      "True Postivie Rate 0.7647058823529411\n",
      "True Negativie Rate:  0.7857142857142857\n",
      "Positive Prediction Value:  0.8125\n",
      "Negative Prediction Value:  0.7333333333333333\n",
      "False Positive Rate:  0.21428571428571427\n",
      "False Negative Rate:  0.23529411764705882\n",
      "False Discovery Rate:  0.1875\n",
      "Accuracy: 77.42%\n",
      "\n",
      "\n",
      "\n",
      "****************************************************************************************************\n",
      "RESULTS FOR FOLD 3\n",
      "\n",
      "\n",
      "Confusion Matrix\n"
     ]
    },
    {
     "data": {
      "image/png": "[encoded data removed]",
      "text/plain": [
       "<Figure size 432x288 with 2 Axes>"
      ]
     },
     "metadata": {
      "needs_background": "light"
     },
     "output_type": "display_data"
    },
    {
     "name": "stdout",
     "output_type": "stream",
     "text": [
      "True Positive:  16\n",
      "True Negative:  11\n",
      "Flase Positive:  3\n",
      "Flase Negative:  1\n",
      "True Postivie Rate 0.9411764705882353\n",
      "True Negativie Rate:  0.7857142857142857\n",
      "Positive Prediction Value:  0.8421052631578947\n",
      "Negative Prediction Value:  0.9166666666666666\n",
      "False Positive Rate:  0.21428571428571427\n",
      "False Negative Rate:  0.058823529411764705\n",
      "False Discovery Rate:  0.15789473684210525\n",
      "Accuracy: 87.10%\n",
      "\n",
      "\n",
      "\n",
      "****************************************************************************************************\n",
      "RESULTS FOR FOLD 4\n",
      "\n",
      "\n",
      "Confusion Matrix\n"
     ]
    },
    {
     "data": {
      "image/png": "[encoded data removed]",
      "text/plain": [
       "<Figure size 432x288 with 2 Axes>"
      ]
     },
     "metadata": {
      "needs_background": "light"
     },
     "output_type": "display_data"
    },
    {
     "name": "stdout",
     "output_type": "stream",
     "text": [
      "True Positive:  15\n",
      "True Negative:  13\n",
      "Flase Positive:  0\n",
      "Flase Negative:  2\n",
      "True Postivie Rate 0.8823529411764706\n",
      "True Negativie Rate:  1.0\n",
      "Positive Prediction Value:  1.0\n",
      "Negative Prediction Value:  0.8666666666666667\n",
      "False Positive Rate:  0.0\n",
      "False Negative Rate:  0.11764705882352941\n",
      "False Discovery Rate:  0.0\n",
      "Accuracy: 93.33%\n",
      "\n",
      "\n",
      "\n",
      "****************************************************************************************************\n",
      "RESULTS FOR FOLD 5\n",
      "\n",
      "\n",
      "Confusion Matrix\n"
     ]
    },
    {
     "data": {
      "image/png": "[encoded data removed]",
      "text/plain": [
       "<Figure size 432x288 with 2 Axes>"
      ]
     },
     "metadata": {
      "needs_background": "light"
     },
     "output_type": "display_data"
    },
    {
     "name": "stdout",
     "output_type": "stream",
     "text": [
      "True Positive:  13\n",
      "True Negative:  11\n",
      "Flase Positive:  2\n",
      "Flase Negative:  4\n",
      "True Postivie Rate 0.7647058823529411\n",
      "True Negativie Rate:  0.8461538461538461\n",
      "Positive Prediction Value:  0.8666666666666667\n",
      "Negative Prediction Value:  0.7333333333333333\n",
      "False Positive Rate:  0.15384615384615385\n",
      "False Negative Rate:  0.23529411764705882\n",
      "False Discovery Rate:  0.13333333333333333\n",
      "Accuracy: 80.00%\n",
      "\n",
      "\n",
      "\n",
      "****************************************************************************************************\n",
      "RESULTS FOR FOLD 6\n",
      "\n",
      "\n",
      "Confusion Matrix\n"
     ]
    },
    {
     "data": {
      "image/png": "[encoded data removed]",
      "text/plain": [
       "<Figure size 432x288 with 2 Axes>"
      ]
     },
     "metadata": {
      "needs_background": "light"
     },
     "output_type": "display_data"
    },
    {
     "name": "stdout",
     "output_type": "stream",
     "text": [
      "True Positive:  12\n",
      "True Negative:  12\n",
      "Flase Positive:  2\n",
      "Flase Negative:  4\n",
      "True Postivie Rate 0.75\n",
      "True Negativie Rate:  0.8571428571428571\n",
      "Positive Prediction Value:  0.8571428571428571\n",
      "Negative Prediction Value:  0.75\n",
      "False Positive Rate:  0.14285714285714285\n",
      "False Negative Rate:  0.25\n",
      "False Discovery Rate:  0.14285714285714285\n",
      "Accuracy: 80.00%\n",
      "\n",
      "\n",
      "\n",
      "****************************************************************************************************\n",
      "RESULTS FOR FOLD 7\n",
      "\n",
      "\n",
      "Confusion Matrix\n"
     ]
    },
    {
     "data": {
      "image/png": "[encoded data removed]",
      "text/plain": [
       "<Figure size 432x288 with 2 Axes>"
      ]
     },
     "metadata": {
      "needs_background": "light"
     },
     "output_type": "display_data"
    },
    {
     "name": "stdout",
     "output_type": "stream",
     "text": [
      "True Positive:  15\n",
      "True Negative:  10\n",
      "Flase Positive:  4\n",
      "Flase Negative:  1\n",
      "True Postivie Rate 0.9375\n",
      "True Negativie Rate:  0.7142857142857143\n",
      "Positive Prediction Value:  0.7894736842105263\n",
      "Negative Prediction Value:  0.9090909090909091\n",
      "False Positive Rate:  0.2857142857142857\n",
      "False Negative Rate:  0.0625\n",
      "False Discovery Rate:  0.21052631578947367\n",
      "Accuracy: 83.33%\n",
      "\n",
      "\n",
      "\n",
      "****************************************************************************************************\n",
      "RESULTS FOR FOLD 8\n",
      "\n",
      "\n",
      "Confusion Matrix\n"
     ]
    },
    {
     "data": {
      "image/png": "[encoded data removed]",
      "text/plain": [
       "<Figure size 432x288 with 2 Axes>"
      ]
     },
     "metadata": {
      "needs_background": "light"
     },
     "output_type": "display_data"
    },
    {
     "name": "stdout",
     "output_type": "stream",
     "text": [
      "True Positive:  15\n",
      "True Negative:  9\n",
      "Flase Positive:  5\n",
      "Flase Negative:  1\n",
      "True Postivie Rate 0.9375\n",
      "True Negativie Rate:  0.6428571428571429\n",
      "Positive Prediction Value:  0.75\n",
      "Negative Prediction Value:  0.9\n",
      "False Positive Rate:  0.35714285714285715\n",
      "False Negative Rate:  0.0625\n",
      "False Discovery Rate:  0.25\n",
      "Accuracy: 80.00%\n",
      "\n",
      "\n",
      "\n",
      "****************************************************************************************************\n",
      "RESULTS FOR FOLD 9\n",
      "\n",
      "\n",
      "Confusion Matrix\n"
     ]
    },
    {
     "data": {
      "image/png": "[encoded data removed]",
      "text/plain": [
       "<Figure size 432x288 with 2 Axes>"
      ]
     },
     "metadata": {
      "needs_background": "light"
     },
     "output_type": "display_data"
    },
    {
     "name": "stdout",
     "output_type": "stream",
     "text": [
      "True Positive:  14\n",
      "True Negative:  7\n",
      "Flase Positive:  7\n",
      "Flase Negative:  2\n",
      "True Postivie Rate 0.875\n",
      "True Negativie Rate:  0.5\n",
      "Positive Prediction Value:  0.6666666666666666\n",
      "Negative Prediction Value:  0.7777777777777778\n",
      "False Positive Rate:  0.5\n",
      "False Negative Rate:  0.125\n",
      "False Discovery Rate:  0.3333333333333333\n",
      "Accuracy: 70.00%\n",
      "\n",
      "\n",
      "\n",
      "****************************************************************************************************\n",
      "RESULTS FOR FOLD 10\n",
      "\n",
      "\n",
      "Confusion Matrix\n"
     ]
    },
    {
     "data": {
      "image/png": "[encoded data removed]",
      "text/plain": [
       "<Figure size 432x288 with 2 Axes>"
      ]
     },
     "metadata": {
      "needs_background": "light"
     },
     "output_type": "display_data"
    },
    {
     "name": "stdout",
     "output_type": "stream",
     "text": [
      "True Positive:  14\n",
      "True Negative:  11\n",
      "Flase Positive:  3\n",
      "Flase Negative:  2\n",
      "True Postivie Rate 0.875\n",
      "True Negativie Rate:  0.7857142857142857\n",
      "Positive Prediction Value:  0.8235294117647058\n",
      "Negative Prediction Value:  0.8461538461538461\n",
      "False Positive Rate:  0.21428571428571427\n",
      "False Negative Rate:  0.125\n",
      "False Discovery Rate:  0.17647058823529413\n",
      "Accuracy: 83.33%\n",
      "\n",
      "\n",
      "\n"
     ]
    }
   ],
   "source": [
    "fold = 1\n",
    "for train_index, test_index in kf.split(X,y):\n",
    "  X_train, X_test, y_train, y_test = X.iloc[train_index], X.iloc[test_index], y.iloc[train_index], y.iloc[test_index]\n",
    "  scores['KNN'].append(get_model_score(knn, X_train, X_test, y_train, y_test, fold))\n",
    "  fold+=1\n",
    "\n",
    "scores['KNN'].append(np.mean(scores['KNN']))"
   ]
  },
  {
   "cell_type": "markdown",
   "metadata": {
    "id": "uZTgqd_lEtsU"
   },
   "source": [
    "# 4. Naive Bayes with 10-Fold Cross Validation"
   ]
  },
  {
   "cell_type": "code",
   "execution_count": 20,
   "metadata": {
    "colab": {
     "base_uri": "https://localhost:8080/",
     "height": 1000
    },
    "id": "A5yDxZ0fEll6",
    "outputId": "cd9437fa-5919-437f-8269-2751e9959c0f"
   },
   "outputs": [
    {
     "name": "stdout",
     "output_type": "stream",
     "text": [
      "****************************************************************************************************\n",
      "RESULTS FOR FOLD 1\n",
      "\n",
      "\n",
      "Confusion Matrix\n"
     ]
    },
    {
     "data": {
      "image/png": "[encoded data removed]",
      "text/plain": [
       "<Figure size 432x288 with 2 Axes>"
      ]
     },
     "metadata": {
      "needs_background": "light"
     },
     "output_type": "display_data"
    },
    {
     "name": "stdout",
     "output_type": "stream",
     "text": [
      "True Positive:  15\n",
      "True Negative:  11\n",
      "Flase Positive:  3\n",
      "Flase Negative:  2\n",
      "True Postivie Rate 0.8823529411764706\n",
      "True Negativie Rate:  0.7857142857142857\n",
      "Positive Prediction Value:  0.8333333333333334\n",
      "Negative Prediction Value:  0.8461538461538461\n",
      "False Positive Rate:  0.21428571428571427\n",
      "False Negative Rate:  0.11764705882352941\n",
      "False Discovery Rate:  0.16666666666666666\n",
      "Accuracy: 83.87%\n",
      "\n",
      "\n",
      "\n",
      "****************************************************************************************************\n",
      "RESULTS FOR FOLD 2\n",
      "\n",
      "\n",
      "Confusion Matrix\n"
     ]
    },
    {
     "data": {
      "image/png": "[encoded data removed]",
      "text/plain": [
       "<Figure size 432x288 with 2 Axes>"
      ]
     },
     "metadata": {
      "needs_background": "light"
     },
     "output_type": "display_data"
    },
    {
     "name": "stdout",
     "output_type": "stream",
     "text": [
      "True Positive:  15\n",
      "True Negative:  11\n",
      "Flase Positive:  3\n",
      "Flase Negative:  2\n",
      "True Postivie Rate 0.8823529411764706\n",
      "True Negativie Rate:  0.7857142857142857\n",
      "Positive Prediction Value:  0.8333333333333334\n",
      "Negative Prediction Value:  0.8461538461538461\n",
      "False Positive Rate:  0.21428571428571427\n",
      "False Negative Rate:  0.11764705882352941\n",
      "False Discovery Rate:  0.16666666666666666\n",
      "Accuracy: 83.87%\n",
      "\n",
      "\n",
      "\n",
      "****************************************************************************************************\n",
      "RESULTS FOR FOLD 3\n",
      "\n",
      "\n",
      "Confusion Matrix\n"
     ]
    },
    {
     "data": {
      "image/png": "[encoded data removed]",
      "text/plain": [
       "<Figure size 432x288 with 2 Axes>"
      ]
     },
     "metadata": {
      "needs_background": "light"
     },
     "output_type": "display_data"
    },
    {
     "name": "stdout",
     "output_type": "stream",
     "text": [
      "True Positive:  16\n",
      "True Negative:  11\n",
      "Flase Positive:  3\n",
      "Flase Negative:  1\n",
      "True Postivie Rate 0.9411764705882353\n",
      "True Negativie Rate:  0.7857142857142857\n",
      "Positive Prediction Value:  0.8421052631578947\n",
      "Negative Prediction Value:  0.9166666666666666\n",
      "False Positive Rate:  0.21428571428571427\n",
      "False Negative Rate:  0.058823529411764705\n",
      "False Discovery Rate:  0.15789473684210525\n",
      "Accuracy: 87.10%\n",
      "\n",
      "\n",
      "\n",
      "****************************************************************************************************\n",
      "RESULTS FOR FOLD 4\n",
      "\n",
      "\n",
      "Confusion Matrix\n"
     ]
    },
    {
     "data": {
      "image/png": "[encoded data removed]",
      "text/plain": [
       "<Figure size 432x288 with 2 Axes>"
      ]
     },
     "metadata": {
      "needs_background": "light"
     },
     "output_type": "display_data"
    },
    {
     "name": "stdout",
     "output_type": "stream",
     "text": [
      "True Positive:  14\n",
      "True Negative:  13\n",
      "Flase Positive:  0\n",
      "Flase Negative:  3\n",
      "True Postivie Rate 0.8235294117647058\n",
      "True Negativie Rate:  1.0\n",
      "Positive Prediction Value:  1.0\n",
      "Negative Prediction Value:  0.8125\n",
      "False Positive Rate:  0.0\n",
      "False Negative Rate:  0.17647058823529413\n",
      "False Discovery Rate:  0.0\n",
      "Accuracy: 90.00%\n",
      "\n",
      "\n",
      "\n",
      "****************************************************************************************************\n",
      "RESULTS FOR FOLD 5\n",
      "\n",
      "\n",
      "Confusion Matrix\n"
     ]
    },
    {
     "data": {
      "image/png": "[encoded data removed]",
      "text/plain": [
       "<Figure size 432x288 with 2 Axes>"
      ]
     },
     "metadata": {
      "needs_background": "light"
     },
     "output_type": "display_data"
    },
    {
     "name": "stdout",
     "output_type": "stream",
     "text": [
      "True Positive:  14\n",
      "True Negative:  10\n",
      "Flase Positive:  3\n",
      "Flase Negative:  3\n",
      "True Postivie Rate 0.8235294117647058\n",
      "True Negativie Rate:  0.7692307692307693\n",
      "Positive Prediction Value:  0.8235294117647058\n",
      "Negative Prediction Value:  0.7692307692307693\n",
      "False Positive Rate:  0.23076923076923078\n",
      "False Negative Rate:  0.17647058823529413\n",
      "False Discovery Rate:  0.17647058823529413\n",
      "Accuracy: 80.00%\n",
      "\n",
      "\n",
      "\n",
      "****************************************************************************************************\n",
      "RESULTS FOR FOLD 6\n",
      "\n",
      "\n",
      "Confusion Matrix\n"
     ]
    },
    {
     "data": {
      "image/png": "[encoded data removed]",
      "text/plain": [
       "<Figure size 432x288 with 2 Axes>"
      ]
     },
     "metadata": {
      "needs_background": "light"
     },
     "output_type": "display_data"
    },
    {
     "name": "stdout",
     "output_type": "stream",
     "text": [
      "True Positive:  10\n",
      "True Negative:  12\n",
      "Flase Positive:  2\n",
      "Flase Negative:  6\n",
      "True Postivie Rate 0.625\n",
      "True Negativie Rate:  0.8571428571428571\n",
      "Positive Prediction Value:  0.8333333333333334\n",
      "Negative Prediction Value:  0.6666666666666666\n",
      "False Positive Rate:  0.14285714285714285\n",
      "False Negative Rate:  0.375\n",
      "False Discovery Rate:  0.16666666666666666\n",
      "Accuracy: 73.33%\n",
      "\n",
      "\n",
      "\n",
      "****************************************************************************************************\n",
      "RESULTS FOR FOLD 7\n",
      "\n",
      "\n",
      "Confusion Matrix\n"
     ]
    },
    {
     "data": {
      "image/png": "[encoded data removed]",
      "text/plain": [
       "<Figure size 432x288 with 2 Axes>"
      ]
     },
     "metadata": {
      "needs_background": "light"
     },
     "output_type": "display_data"
    },
    {
     "name": "stdout",
     "output_type": "stream",
     "text": [
      "True Positive:  5\n",
      "True Negative:  12\n",
      "Flase Positive:  2\n",
      "Flase Negative:  11\n",
      "True Postivie Rate 0.3125\n",
      "True Negativie Rate:  0.8571428571428571\n",
      "Positive Prediction Value:  0.7142857142857143\n",
      "Negative Prediction Value:  0.5217391304347826\n",
      "False Positive Rate:  0.14285714285714285\n",
      "False Negative Rate:  0.6875\n",
      "False Discovery Rate:  0.2857142857142857\n",
      "Accuracy: 56.67%\n",
      "\n",
      "\n",
      "\n",
      "****************************************************************************************************\n",
      "RESULTS FOR FOLD 8\n",
      "\n",
      "\n",
      "Confusion Matrix\n"
     ]
    },
    {
     "data": {
      "image/png": "[encoded data removed]",
      "text/plain": [
       "<Figure size 432x288 with 2 Axes>"
      ]
     },
     "metadata": {
      "needs_background": "light"
     },
     "output_type": "display_data"
    },
    {
     "name": "stdout",
     "output_type": "stream",
     "text": [
      "True Positive:  15\n",
      "True Negative:  11\n",
      "Flase Positive:  3\n",
      "Flase Negative:  1\n",
      "True Postivie Rate 0.9375\n",
      "True Negativie Rate:  0.7857142857142857\n",
      "Positive Prediction Value:  0.8333333333333334\n",
      "Negative Prediction Value:  0.9166666666666666\n",
      "False Positive Rate:  0.21428571428571427\n",
      "False Negative Rate:  0.0625\n",
      "False Discovery Rate:  0.16666666666666666\n",
      "Accuracy: 86.67%\n",
      "\n",
      "\n",
      "\n",
      "****************************************************************************************************\n",
      "RESULTS FOR FOLD 9\n",
      "\n",
      "\n",
      "Confusion Matrix\n"
     ]
    },
    {
     "data": {
      "image/png": "[encoded data removed]",
      "text/plain": [
       "<Figure size 432x288 with 2 Axes>"
      ]
     },
     "metadata": {
      "needs_background": "light"
     },
     "output_type": "display_data"
    },
    {
     "name": "stdout",
     "output_type": "stream",
     "text": [
      "True Positive:  13\n",
      "True Negative:  6\n",
      "Flase Positive:  8\n",
      "Flase Negative:  3\n",
      "True Postivie Rate 0.8125\n",
      "True Negativie Rate:  0.42857142857142855\n",
      "Positive Prediction Value:  0.6190476190476191\n",
      "Negative Prediction Value:  0.6666666666666666\n",
      "False Positive Rate:  0.5714285714285714\n",
      "False Negative Rate:  0.1875\n",
      "False Discovery Rate:  0.38095238095238093\n",
      "Accuracy: 63.33%\n",
      "\n",
      "\n",
      "\n",
      "****************************************************************************************************\n",
      "RESULTS FOR FOLD 10\n",
      "\n",
      "\n",
      "Confusion Matrix\n"
     ]
    },
    {
     "data": {
      "image/png": "[encoded data removed]",
      "text/plain": [
       "<Figure size 432x288 with 2 Axes>"
      ]
     },
     "metadata": {
      "needs_background": "light"
     },
     "output_type": "display_data"
    },
    {
     "name": "stdout",
     "output_type": "stream",
     "text": [
      "True Positive:  12\n",
      "True Negative:  11\n",
      "Flase Positive:  3\n",
      "Flase Negative:  4\n",
      "True Postivie Rate 0.75\n",
      "True Negativie Rate:  0.7857142857142857\n",
      "Positive Prediction Value:  0.8\n",
      "Negative Prediction Value:  0.7333333333333333\n",
      "False Positive Rate:  0.21428571428571427\n",
      "False Negative Rate:  0.25\n",
      "False Discovery Rate:  0.2\n",
      "Accuracy: 76.67%\n",
      "\n",
      "\n",
      "\n"
     ]
    }
   ],
   "source": [
    "fold = 1\n",
    "for train_index, test_index in kf.split(X,y):\n",
    "  X_train, X_test, y_train, y_test = X.iloc[train_index], X.iloc[test_index], y.iloc[train_index], y.iloc[test_index]\n",
    "  scores['Naive Bayes'].append(get_model_score(nb, X_train, X_test, y_train, y_test, fold))\n",
    "  fold+=1\n",
    "\n",
    "scores['Naive Bayes'].append(np.mean(scores['Naive Bayes']))"
   ]
  },
  {
   "cell_type": "markdown",
   "metadata": {
    "id": "qJhGkhpFIYN_"
   },
   "source": [
    "# FINAL RESULTS"
   ]
  },
  {
   "cell_type": "code",
   "execution_count": 21,
   "metadata": {
    "colab": {
     "base_uri": "https://localhost:8080/",
     "height": 173
    },
    "id": "ibpFFX8-FEr0",
    "outputId": "05d2e433-a05a-4228-de70-42df0f5937d8"
   },
   "outputs": [
    {
     "data": {
      "text/html": [
       "<div>\n",
       "<style scoped>\n",
       "    .dataframe tbody tr th:only-of-type {\n",
       "        vertical-align: middle;\n",
       "    }\n",
       "\n",
       "    .dataframe tbody tr th {\n",
       "        vertical-align: top;\n",
       "    }\n",
       "\n",
       "    .dataframe thead th {\n",
       "        text-align: right;\n",
       "    }\n",
       "</style>\n",
       "<table border=\"1\" class=\"dataframe\">\n",
       "  <thead>\n",
       "    <tr style=\"text-align: right;\">\n",
       "      <th></th>\n",
       "      <th>FOLD_1</th>\n",
       "      <th>FOLD_2</th>\n",
       "      <th>FOLD_3</th>\n",
       "      <th>FOLD_4</th>\n",
       "      <th>FOLD_5</th>\n",
       "      <th>FOLD_6</th>\n",
       "      <th>FOLD_7</th>\n",
       "      <th>FOLD_8</th>\n",
       "      <th>FOLD_9</th>\n",
       "      <th>FOLD_10</th>\n",
       "      <th>AVERAGE_10_Folds</th>\n",
       "    </tr>\n",
       "  </thead>\n",
       "  <tbody>\n",
       "    <tr>\n",
       "      <th>Random Forest</th>\n",
       "      <td>0.806452</td>\n",
       "      <td>0.741935</td>\n",
       "      <td>0.774194</td>\n",
       "      <td>0.966667</td>\n",
       "      <td>0.8</td>\n",
       "      <td>0.800000</td>\n",
       "      <td>0.833333</td>\n",
       "      <td>0.700000</td>\n",
       "      <td>0.733333</td>\n",
       "      <td>0.800000</td>\n",
       "      <td>0.795591</td>\n",
       "    </tr>\n",
       "    <tr>\n",
       "      <th>SVM</th>\n",
       "      <td>0.903226</td>\n",
       "      <td>0.838710</td>\n",
       "      <td>0.870968</td>\n",
       "      <td>0.966667</td>\n",
       "      <td>0.8</td>\n",
       "      <td>0.866667</td>\n",
       "      <td>0.866667</td>\n",
       "      <td>0.766667</td>\n",
       "      <td>0.766667</td>\n",
       "      <td>0.866667</td>\n",
       "      <td>0.851290</td>\n",
       "    </tr>\n",
       "    <tr>\n",
       "      <th>KNN</th>\n",
       "      <td>0.838710</td>\n",
       "      <td>0.774194</td>\n",
       "      <td>0.870968</td>\n",
       "      <td>0.933333</td>\n",
       "      <td>0.8</td>\n",
       "      <td>0.800000</td>\n",
       "      <td>0.833333</td>\n",
       "      <td>0.800000</td>\n",
       "      <td>0.700000</td>\n",
       "      <td>0.833333</td>\n",
       "      <td>0.818387</td>\n",
       "    </tr>\n",
       "    <tr>\n",
       "      <th>Naive Bayes</th>\n",
       "      <td>0.838710</td>\n",
       "      <td>0.838710</td>\n",
       "      <td>0.870968</td>\n",
       "      <td>0.900000</td>\n",
       "      <td>0.8</td>\n",
       "      <td>0.733333</td>\n",
       "      <td>0.566667</td>\n",
       "      <td>0.866667</td>\n",
       "      <td>0.633333</td>\n",
       "      <td>0.766667</td>\n",
       "      <td>0.781505</td>\n",
       "    </tr>\n",
       "  </tbody>\n",
       "</table>\n",
       "</div>"
      ],
      "text/plain": [
       "                 FOLD_1    FOLD_2    FOLD_3    FOLD_4  FOLD_5    FOLD_6  \\\n",
       "Random Forest  0.806452  0.741935  0.774194  0.966667     0.8  0.800000   \n",
       "SVM            0.903226  0.838710  0.870968  0.966667     0.8  0.866667   \n",
       "KNN            0.838710  0.774194  0.870968  0.933333     0.8  0.800000   \n",
       "Naive Bayes    0.838710  0.838710  0.870968  0.900000     0.8  0.733333   \n",
       "\n",
       "                 FOLD_7    FOLD_8    FOLD_9   FOLD_10  AVERAGE_10_Folds  \n",
       "Random Forest  0.833333  0.700000  0.733333  0.800000          0.795591  \n",
       "SVM            0.866667  0.766667  0.766667  0.866667          0.851290  \n",
       "KNN            0.833333  0.800000  0.700000  0.833333          0.818387  \n",
       "Naive Bayes    0.566667  0.866667  0.633333  0.766667          0.781505  "
      ]
     },
     "execution_count": 21,
     "metadata": {},
     "output_type": "execute_result"
    }
   ],
   "source": [
    "cols = [\"FOLD_\"+str(i) for i in range(1,11)]\n",
    "cols.append(\"AVERAGE_10_Folds\")\n",
    "scores_df = pd.DataFrame.from_dict(scores, orient='index', columns=cols)\n",
    "scores_df"
   ]
  },
  {
   "cell_type": "code",
   "execution_count": null,
   "metadata": {},
   "outputs": [],
   "source": []
  },
  {
   "cell_type": "code",
   "execution_count": null,
   "metadata": {},
   "outputs": [],
   "source": []
  },
  {
   "cell_type": "code",
   "execution_count": null,
   "metadata": {},
   "outputs": [],
   "source": []
  },
  {
   "cell_type": "code",
   "execution_count": null,
   "metadata": {},
   "outputs": [],
   "source": []
  }
 ],
 "metadata": {
  "colab": {
   "name": "Diksha_Final.ipynb",
   "provenance": []
  },
  "kernelspec": {
   "display_name": "Python 3",
   "language": "python",
   "name": "python3"
  },
  "language_info": {
   "codemirror_mode": {
    "name": "ipython",
    "version": 3
   },
   "file_extension": ".py",
   "mimetype": "text/x-python",
   "name": "python",
   "nbconvert_exporter": "python",
   "pygments_lexer": "ipython3",
   "version": "3.8.5"
  }
 },
 "nbformat": 4,
 "nbformat_minor": 1
}
